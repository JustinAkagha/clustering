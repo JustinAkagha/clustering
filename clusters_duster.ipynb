{
 "cells": [
  {
   "cell_type": "markdown",
   "id": "3755485c",
   "metadata": {},
   "source": [
    "#### Reading Dataset"
   ]
  },
  {
   "cell_type": "code",
   "execution_count": 411,
   "id": "90e19153",
   "metadata": {},
   "outputs": [
    {
     "name": "stdout",
     "output_type": "stream",
     "text": [
      "         index          dateCrawled  \\\n",
      "260950  371518  2016-04-02 20:37:03   \n",
      "260951  371520  2016-03-19 19:53:49   \n",
      "260952  371521  2016-03-27 20:36:20   \n",
      "260953  371524  2016-03-05 19:56:21   \n",
      "260954  371525  2016-03-19 18:57:12   \n",
      "260955  371527  2016-03-07 19:39:19   \n",
      "\n",
      "                                                name  seller offerType  price  \\\n",
      "260950                     Bmw_320_D_DPF_Touring_!!!  privat   Angebot   3999   \n",
      "260951                                  turbo_defekt  privat   Angebot   3200   \n",
      "260952            Opel_Zafira_1.6_Elegance_TÜV_12/16  privat   Angebot   1150   \n",
      "260953         Smart_smart_leistungssteigerung_100ps  privat   Angebot   1199   \n",
      "260954            Volkswagen_Multivan_T4_TDI_7DC_UY2  privat   Angebot   9200   \n",
      "260955  BMW_M135i_vollausgestattet_NP_52.720____Euro  privat   Angebot  28990   \n",
      "\n",
      "         abtest vehicleType  yearOfRegistration    gearbox  powerPS  \\\n",
      "260950     test       kombi                2005    manuell        3   \n",
      "260951  control   limousine                2004    manuell      225   \n",
      "260952  control         bus                2000    manuell        0   \n",
      "260953     test      cabrio                2000  automatik      101   \n",
      "260954     test         bus                1996    manuell      102   \n",
      "260955  control   limousine                2013    manuell      320   \n",
      "\n",
      "              model  kilometer  monthOfRegistration fuelType       brand  \\\n",
      "260950          3er     150000                    5   diesel         bmw   \n",
      "260951         leon     150000                    5   benzin        seat   \n",
      "260952       zafira     150000                    3   benzin        opel   \n",
      "260953       fortwo     125000                    3   benzin       smart   \n",
      "260954  transporter     150000                    3   diesel  volkswagen   \n",
      "260955      m_reihe      50000                    8   benzin         bmw   \n",
      "\n",
      "       notRepairedDamage          dateCreated  nrOfPictures  postalCode  \\\n",
      "260950              nein  2016-04-02 00:00:00             0       81825   \n",
      "260951                ja  2016-03-19 00:00:00             0       96465   \n",
      "260952              nein  2016-03-27 00:00:00             0       26624   \n",
      "260953              nein  2016-03-05 00:00:00             0       26135   \n",
      "260954              nein  2016-03-19 00:00:00             0       87439   \n",
      "260955              nein  2016-03-07 00:00:00             0       73326   \n",
      "\n",
      "                   lastSeen  \n",
      "260950  2016-04-06 20:47:12  \n",
      "260951  2016-03-19 20:44:43  \n",
      "260952  2016-03-29 10:17:23  \n",
      "260953  2016-03-11 18:17:12  \n",
      "260954  2016-04-07 07:15:26  \n",
      "260955  2016-03-22 03:17:10  \n"
     ]
    }
   ],
   "source": [
    "import pandas as pd\n",
    "\n",
    "from sklearn.cluster import KMeans\n",
    "from sklearn.preprocessing import MinMaxScaler\n",
    "from matplotlib import pyplot as plt\n",
    "\n",
    "used_cars = pd.read_csv('autos.csv')\n",
    "used_cars = used_cars.dropna()\n",
    "#used_cars = used_cars.head(1000)\n",
    "used_cars = used_cars.reset_index(drop=True)\n",
    "pd.set_option('display.max_columns', None)\n",
    "print(used_cars.tail(6))"
   ]
  },
  {
   "cell_type": "code",
   "execution_count": 400,
   "id": "01673851",
   "metadata": {
    "scrolled": false
   },
   "outputs": [
    {
     "name": "stdout",
     "output_type": "stream",
     "text": [
      "['index', 'dateCrawled', 'name', 'seller', 'offerType', 'price', 'abtest', 'vehicleType', 'yearOfRegistration', 'gearbox', 'powerPS', 'model', 'kilometer', 'monthOfRegistration', 'fuelType', 'brand', 'notRepairedDamage', 'dateCreated', 'nrOfPictures', 'postalCode', 'lastSeen']\n"
     ]
    }
   ],
   "source": [
    "columns = used_cars.columns\n",
    "column_names= []\n",
    "for column_name in columns:\n",
    "    column_names.append(column_name)   \n",
    "\n",
    "print(column_names)"
   ]
  },
  {
   "cell_type": "code",
   "execution_count": 401,
   "id": "3dfa083f",
   "metadata": {
    "scrolled": true
   },
   "outputs": [
    {
     "name": "stdout",
     "output_type": "stream",
     "text": [
      "['golf' 'fabia' '3er' '2_reihe' 'andere' '3_reihe' 'passat' 'navara'\n",
      " 'twingo' 'c_max' 'a_klasse' 'scirocco' '5er' 'arosa' 'civic'\n",
      " 'transporter' 'punto' 'e_klasse' 'one' 'clio' '1er' 'b_klasse' 'astra'\n",
      " 'fortwo' 'a8' 'jetta' 'polo' 'fiesta' 'c_klasse' 'micra' 'vito'\n",
      " 'sprinter' '156' 'escort' 'forester' 'scenic' 'a1' 'combo' 'focus' 'tt'\n",
      " 'a6' 'jazz' 'slk' '7er' '80' '147' 'glk' 'meriva' 'z_reihe' 'v40' 'ibiza'\n",
      " 'mustang' 'eos' 'a4' 'touran' 'getz' 'insignia' 'megane' 'a3' 'lupo'\n",
      " 'r19' 'colt' 'corsa' 'vectra' 'berlingo' 'm_klasse' 'tiguan' 'sharan'\n",
      " '6_reihe' 'c4' 'panda' 'up' 'i_reihe' 'ceed' 'kangoo' '5_reihe' 'yeti'\n",
      " 'octavia' 'zafira' 'mii' 'rx_reihe' 'mondeo' '6er' 'fox' 'matiz' 'beetle'\n",
      " 'rio' 'touareg' 'logan' 'omega' 'cuore' 's_max' 'modus' 'a2' 'x_reihe'\n",
      " 'a5' 'galaxy' 'c3' 'viano' 's_klasse' 'avensis' 'sl' 'roomster' 'q5'\n",
      " 'kaefer' 'santa' 'cooper' 'leon' 'sportage' 'caddy' 'clk' 'primera'\n",
      " '4_reihe' 'espace' 'exeo' 'juke' '1_reihe' 'accord' 'corolla' 'grand'\n",
      " 'phaeton' 'boxster' 'cordoba' 'verso' 'swift' 'rav' 'kuga' 'qashqai'\n",
      " '159' 'picanto' 'stilo' 'alhambra' 'laguna' '911' 'ka' 'm_reihe'\n",
      " 'transit' 'roadster' 'ypsilon' 'galant' 'impreza' 'sirion' 'signum'\n",
      " 'crossfire' 'agila' 'duster' 'sorento' 'v50' 'mx_reihe' '500' 'discovery'\n",
      " 'c_reihe' 'v_klasse' 'yaris' 'c5' 'aygo' 'almera' 'cc' 'bora' 'forfour'\n",
      " '100' 'cl' 'tigra' '300c' 'ptcruiser' 'cr_reihe' 'xc_reihe' 'spark'\n",
      " 'x_type' 'ducato' 's_type' 'x_trail' 'toledo' 'altea' 'voyager'\n",
      " 'carnival' 'v70' 'bravo' 'range_rover' 'carisma' 'antara' 'q7' 'c1'\n",
      " 'kadett' 'citigo' 'jimny' 'cx_reihe' 'cayenne' 'wrangler' 'lybra'\n",
      " 'lancer' 'freelander' 'captiva' 'fusion' 'range_rover_evoque' 'sandero'\n",
      " 'note' 'q3' 'spider' '90' 'defender' 'cherokee' 'seicento' 'clubman'\n",
      " 'legacy' 'pajero' 'c2' 'niva' 's60' '900' 'nubira' 'vivaro' 'lanos'\n",
      " 'tucson' 'g_klasse' 'auris' 'lodgy' '850' 'range_rover_sport' '601'\n",
      " 'superb' 'justy' 'serie_2' 'calibra' 'charade' 'croma' 'outlander' 'gl'\n",
      " 'doblo' 'amarok' 'musa' '9000' 'kalos' 'v60' '200' 'b_max' 'delta' '145'\n",
      " 'aveo' 'terios' 'move' 'materia' 'kalina' 'samara' 'elefantino' 'i3'\n",
      " 'rangerover' 'serie_3' 'kappa' 'discovery_sport']\n",
      "[2010]\n"
     ]
    }
   ],
   "source": [
    "car_models = used_cars['model'].unique()\n",
    "print(car_models)\n",
    "for car_model in car_models:\n",
    "    if car_model == \"g\":\n",
    "        print(\"it exists\")\n",
    "\n",
    "\n",
    "# Subset the DataFrame based on the 'models' column having the value 'duster'\n",
    "duster_cars = used_cars[used_cars['model'] == 'duster']\n",
    "duster_suvs = duster_cars[duster_cars['vehicleType'] == 'suv']\n",
    "\n",
    "duster_suvs_2010 = duster_suvs[duster_suvs['yearOfRegistration']== 2010]\n",
    "\n",
    "duster_cars_models = duster_suvs_2010['yearOfRegistration'].unique()\n",
    "print(duster_cars_models)"
   ]
  },
  {
   "cell_type": "code",
   "execution_count": 402,
   "id": "3d08f61b",
   "metadata": {},
   "outputs": [
    {
     "data": {
      "text/html": [
       "<div>\n",
       "<style scoped>\n",
       "    .dataframe tbody tr th:only-of-type {\n",
       "        vertical-align: middle;\n",
       "    }\n",
       "\n",
       "    .dataframe tbody tr th {\n",
       "        vertical-align: top;\n",
       "    }\n",
       "\n",
       "    .dataframe thead th {\n",
       "        text-align: right;\n",
       "    }\n",
       "</style>\n",
       "<table border=\"1\" class=\"dataframe\">\n",
       "  <thead>\n",
       "    <tr style=\"text-align: right;\">\n",
       "      <th></th>\n",
       "      <th>model</th>\n",
       "      <th>vehicleType</th>\n",
       "      <th>price</th>\n",
       "      <th>kilometer</th>\n",
       "      <th>yearOfRegistration</th>\n",
       "    </tr>\n",
       "  </thead>\n",
       "  <tbody>\n",
       "    <tr>\n",
       "      <th>236099</th>\n",
       "      <td>duster</td>\n",
       "      <td>suv</td>\n",
       "      <td>8400</td>\n",
       "      <td>100000</td>\n",
       "      <td>2010</td>\n",
       "    </tr>\n",
       "    <tr>\n",
       "      <th>243472</th>\n",
       "      <td>duster</td>\n",
       "      <td>suv</td>\n",
       "      <td>7000</td>\n",
       "      <td>125000</td>\n",
       "      <td>2010</td>\n",
       "    </tr>\n",
       "    <tr>\n",
       "      <th>244727</th>\n",
       "      <td>duster</td>\n",
       "      <td>suv</td>\n",
       "      <td>9950</td>\n",
       "      <td>70000</td>\n",
       "      <td>2010</td>\n",
       "    </tr>\n",
       "    <tr>\n",
       "      <th>250782</th>\n",
       "      <td>duster</td>\n",
       "      <td>suv</td>\n",
       "      <td>5300</td>\n",
       "      <td>80000</td>\n",
       "      <td>2010</td>\n",
       "    </tr>\n",
       "    <tr>\n",
       "      <th>253118</th>\n",
       "      <td>duster</td>\n",
       "      <td>suv</td>\n",
       "      <td>9300</td>\n",
       "      <td>80000</td>\n",
       "      <td>2010</td>\n",
       "    </tr>\n",
       "  </tbody>\n",
       "</table>\n",
       "</div>"
      ],
      "text/plain": [
       "         model vehicleType  price  kilometer  yearOfRegistration\n",
       "236099  duster         suv   8400     100000                2010\n",
       "243472  duster         suv   7000     125000                2010\n",
       "244727  duster         suv   9950      70000                2010\n",
       "250782  duster         suv   5300      80000                2010\n",
       "253118  duster         suv   9300      80000                2010"
      ]
     },
     "metadata": {},
     "output_type": "display_data"
    }
   ],
   "source": [
    "display(duster_suvs_2010[['model', 'vehicleType', 'price', 'kilometer', 'yearOfRegistration']].tail(5))"
   ]
  },
  {
   "cell_type": "code",
   "execution_count": 403,
   "id": "867f92b8",
   "metadata": {},
   "outputs": [
    {
     "data": {
      "text/html": [
       "<style>#sk-container-id-30 {color: black;}#sk-container-id-30 pre{padding: 0;}#sk-container-id-30 div.sk-toggleable {background-color: white;}#sk-container-id-30 label.sk-toggleable__label {cursor: pointer;display: block;width: 100%;margin-bottom: 0;padding: 0.3em;box-sizing: border-box;text-align: center;}#sk-container-id-30 label.sk-toggleable__label-arrow:before {content: \"▸\";float: left;margin-right: 0.25em;color: #696969;}#sk-container-id-30 label.sk-toggleable__label-arrow:hover:before {color: black;}#sk-container-id-30 div.sk-estimator:hover label.sk-toggleable__label-arrow:before {color: black;}#sk-container-id-30 div.sk-toggleable__content {max-height: 0;max-width: 0;overflow: hidden;text-align: left;background-color: #f0f8ff;}#sk-container-id-30 div.sk-toggleable__content pre {margin: 0.2em;color: black;border-radius: 0.25em;background-color: #f0f8ff;}#sk-container-id-30 input.sk-toggleable__control:checked~div.sk-toggleable__content {max-height: 200px;max-width: 100%;overflow: auto;}#sk-container-id-30 input.sk-toggleable__control:checked~label.sk-toggleable__label-arrow:before {content: \"▾\";}#sk-container-id-30 div.sk-estimator input.sk-toggleable__control:checked~label.sk-toggleable__label {background-color: #d4ebff;}#sk-container-id-30 div.sk-label input.sk-toggleable__control:checked~label.sk-toggleable__label {background-color: #d4ebff;}#sk-container-id-30 input.sk-hidden--visually {border: 0;clip: rect(1px 1px 1px 1px);clip: rect(1px, 1px, 1px, 1px);height: 1px;margin: -1px;overflow: hidden;padding: 0;position: absolute;width: 1px;}#sk-container-id-30 div.sk-estimator {font-family: monospace;background-color: #f0f8ff;border: 1px dotted black;border-radius: 0.25em;box-sizing: border-box;margin-bottom: 0.5em;}#sk-container-id-30 div.sk-estimator:hover {background-color: #d4ebff;}#sk-container-id-30 div.sk-parallel-item::after {content: \"\";width: 100%;border-bottom: 1px solid gray;flex-grow: 1;}#sk-container-id-30 div.sk-label:hover label.sk-toggleable__label {background-color: #d4ebff;}#sk-container-id-30 div.sk-serial::before {content: \"\";position: absolute;border-left: 1px solid gray;box-sizing: border-box;top: 0;bottom: 0;left: 50%;z-index: 0;}#sk-container-id-30 div.sk-serial {display: flex;flex-direction: column;align-items: center;background-color: white;padding-right: 0.2em;padding-left: 0.2em;position: relative;}#sk-container-id-30 div.sk-item {position: relative;z-index: 1;}#sk-container-id-30 div.sk-parallel {display: flex;align-items: stretch;justify-content: center;background-color: white;position: relative;}#sk-container-id-30 div.sk-item::before, #sk-container-id-30 div.sk-parallel-item::before {content: \"\";position: absolute;border-left: 1px solid gray;box-sizing: border-box;top: 0;bottom: 0;left: 50%;z-index: -1;}#sk-container-id-30 div.sk-parallel-item {display: flex;flex-direction: column;z-index: 1;position: relative;background-color: white;}#sk-container-id-30 div.sk-parallel-item:first-child::after {align-self: flex-end;width: 50%;}#sk-container-id-30 div.sk-parallel-item:last-child::after {align-self: flex-start;width: 50%;}#sk-container-id-30 div.sk-parallel-item:only-child::after {width: 0;}#sk-container-id-30 div.sk-dashed-wrapped {border: 1px dashed gray;margin: 0 0.4em 0.5em 0.4em;box-sizing: border-box;padding-bottom: 0.4em;background-color: white;}#sk-container-id-30 div.sk-label label {font-family: monospace;font-weight: bold;display: inline-block;line-height: 1.2em;}#sk-container-id-30 div.sk-label-container {text-align: center;}#sk-container-id-30 div.sk-container {/* jupyter's `normalize.less` sets `[hidden] { display: none; }` but bootstrap.min.css set `[hidden] { display: none !important; }` so we also need the `!important` here to be able to override the default hidden behavior on the sphinx rendered scikit-learn.org. See: https://github.com/scikit-learn/scikit-learn/issues/21755 */display: inline-block !important;position: relative;}#sk-container-id-30 div.sk-text-repr-fallback {display: none;}</style><div id=\"sk-container-id-30\" class=\"sk-top-container\"><div class=\"sk-text-repr-fallback\"><pre>KMeans(n_clusters=4)</pre><b>In a Jupyter environment, please rerun this cell to show the HTML representation or trust the notebook. <br />On GitHub, the HTML representation is unable to render, please try loading this page with nbviewer.org.</b></div><div class=\"sk-container\" hidden><div class=\"sk-item\"><div class=\"sk-estimator sk-toggleable\"><input class=\"sk-toggleable__control sk-hidden--visually\" id=\"sk-estimator-id-30\" type=\"checkbox\" checked><label for=\"sk-estimator-id-30\" class=\"sk-toggleable__label sk-toggleable__label-arrow\">KMeans</label><div class=\"sk-toggleable__content\"><pre>KMeans(n_clusters=4)</pre></div></div></div></div></div>"
      ],
      "text/plain": [
       "KMeans(n_clusters=4)"
      ]
     },
     "execution_count": 403,
     "metadata": {},
     "output_type": "execute_result"
    }
   ],
   "source": [
    "km = KMeans(n_clusters=4)\n",
    "km"
   ]
  },
  {
   "cell_type": "code",
   "execution_count": 404,
   "id": "922f7c0f",
   "metadata": {},
   "outputs": [
    {
     "name": "stderr",
     "output_type": "stream",
     "text": [
      "/Users/justinakagha/anaconda3/lib/python3.11/site-packages/sklearn/cluster/_kmeans.py:1412: FutureWarning: The default value of `n_init` will change from 10 to 'auto' in 1.4. Set the value of `n_init` explicitly to suppress the warning\n",
      "  super()._check_params_vs_input(X, default_n_init=10)\n"
     ]
    },
    {
     "data": {
      "text/plain": [
       "array([0, 2, 3, 1, 1, 0, 1, 1, 0, 1, 1, 2, 0, 0, 3, 2, 3, 1, 0, 3, 2, 2,\n",
       "       1, 2, 3, 1, 2, 1, 2, 2, 1, 2, 0, 1, 1, 1], dtype=int32)"
      ]
     },
     "execution_count": 404,
     "metadata": {},
     "output_type": "execute_result"
    }
   ],
   "source": [
    "y_predicted = km.fit_predict(duster_suvs_2010[['kilometer', 'price']])\n",
    "duster_suvs_2010['cluster'] = y_predicted\n",
    "\n",
    "\n",
    "y_predicted"
   ]
  },
  {
   "cell_type": "code",
   "execution_count": 405,
   "id": "f2725f1d",
   "metadata": {},
   "outputs": [
    {
     "name": "stderr",
     "output_type": "stream",
     "text": [
      "/var/folders/l9/yvbj6fz177b93d32gv9w_f9r0000gn/T/ipykernel_2042/540929193.py:1: SettingWithCopyWarning: \n",
      "A value is trying to be set on a copy of a slice from a DataFrame.\n",
      "Try using .loc[row_indexer,col_indexer] = value instead\n",
      "\n",
      "See the caveats in the documentation: https://pandas.pydata.org/pandas-docs/stable/user_guide/indexing.html#returning-a-view-versus-a-copy\n",
      "  duster_suvs_2010['cluster'] = y_predicted\n"
     ]
    },
    {
     "data": {
      "text/html": [
       "<div>\n",
       "<style scoped>\n",
       "    .dataframe tbody tr th:only-of-type {\n",
       "        vertical-align: middle;\n",
       "    }\n",
       "\n",
       "    .dataframe tbody tr th {\n",
       "        vertical-align: top;\n",
       "    }\n",
       "\n",
       "    .dataframe thead th {\n",
       "        text-align: right;\n",
       "    }\n",
       "</style>\n",
       "<table border=\"1\" class=\"dataframe\">\n",
       "  <thead>\n",
       "    <tr style=\"text-align: right;\">\n",
       "      <th></th>\n",
       "      <th>index</th>\n",
       "      <th>dateCrawled</th>\n",
       "      <th>name</th>\n",
       "      <th>seller</th>\n",
       "      <th>offerType</th>\n",
       "      <th>price</th>\n",
       "      <th>abtest</th>\n",
       "      <th>vehicleType</th>\n",
       "      <th>yearOfRegistration</th>\n",
       "      <th>gearbox</th>\n",
       "      <th>powerPS</th>\n",
       "      <th>model</th>\n",
       "      <th>kilometer</th>\n",
       "      <th>monthOfRegistration</th>\n",
       "      <th>fuelType</th>\n",
       "      <th>brand</th>\n",
       "      <th>notRepairedDamage</th>\n",
       "      <th>dateCreated</th>\n",
       "      <th>nrOfPictures</th>\n",
       "      <th>postalCode</th>\n",
       "      <th>lastSeen</th>\n",
       "      <th>cluster</th>\n",
       "    </tr>\n",
       "  </thead>\n",
       "  <tbody>\n",
       "    <tr>\n",
       "      <th>1076</th>\n",
       "      <td>1566</td>\n",
       "      <td>2016-03-13 14:48:04</td>\n",
       "      <td>Duster_1_5_Diesel_2Jahre_TÜV_Bj_2010_Klima_4mal2</td>\n",
       "      <td>privat</td>\n",
       "      <td>Angebot</td>\n",
       "      <td>5800</td>\n",
       "      <td>test</td>\n",
       "      <td>suv</td>\n",
       "      <td>2010</td>\n",
       "      <td>manuell</td>\n",
       "      <td>86</td>\n",
       "      <td>duster</td>\n",
       "      <td>150000</td>\n",
       "      <td>7</td>\n",
       "      <td>diesel</td>\n",
       "      <td>dacia</td>\n",
       "      <td>nein</td>\n",
       "      <td>2016-03-13 00:00:00</td>\n",
       "      <td>0</td>\n",
       "      <td>47166</td>\n",
       "      <td>2016-04-06 16:17:07</td>\n",
       "      <td>0</td>\n",
       "    </tr>\n",
       "    <tr>\n",
       "      <th>5588</th>\n",
       "      <td>7973</td>\n",
       "      <td>2016-03-11 13:25:22</td>\n",
       "      <td>Dacia_Duster_1.6_16V_4x2_Prestige__1._Hand</td>\n",
       "      <td>privat</td>\n",
       "      <td>Angebot</td>\n",
       "      <td>7650</td>\n",
       "      <td>test</td>\n",
       "      <td>suv</td>\n",
       "      <td>2010</td>\n",
       "      <td>manuell</td>\n",
       "      <td>105</td>\n",
       "      <td>duster</td>\n",
       "      <td>90000</td>\n",
       "      <td>11</td>\n",
       "      <td>benzin</td>\n",
       "      <td>dacia</td>\n",
       "      <td>nein</td>\n",
       "      <td>2016-03-11 00:00:00</td>\n",
       "      <td>0</td>\n",
       "      <td>61184</td>\n",
       "      <td>2016-04-06 13:17:14</td>\n",
       "      <td>2</td>\n",
       "    </tr>\n",
       "    <tr>\n",
       "      <th>10895</th>\n",
       "      <td>15509</td>\n",
       "      <td>2016-03-24 14:59:10</td>\n",
       "      <td>Dacia_Duster_dCi_110_FAP_4x2_Laureate</td>\n",
       "      <td>privat</td>\n",
       "      <td>Angebot</td>\n",
       "      <td>11350</td>\n",
       "      <td>test</td>\n",
       "      <td>suv</td>\n",
       "      <td>2010</td>\n",
       "      <td>manuell</td>\n",
       "      <td>107</td>\n",
       "      <td>duster</td>\n",
       "      <td>30000</td>\n",
       "      <td>8</td>\n",
       "      <td>diesel</td>\n",
       "      <td>dacia</td>\n",
       "      <td>nein</td>\n",
       "      <td>2016-03-24 00:00:00</td>\n",
       "      <td>0</td>\n",
       "      <td>73630</td>\n",
       "      <td>2016-04-07 07:45:18</td>\n",
       "      <td>3</td>\n",
       "    </tr>\n",
       "  </tbody>\n",
       "</table>\n",
       "</div>"
      ],
      "text/plain": [
       "       index          dateCrawled  \\\n",
       "1076    1566  2016-03-13 14:48:04   \n",
       "5588    7973  2016-03-11 13:25:22   \n",
       "10895  15509  2016-03-24 14:59:10   \n",
       "\n",
       "                                                   name  seller offerType  \\\n",
       "1076   Duster_1_5_Diesel_2Jahre_TÜV_Bj_2010_Klima_4mal2  privat   Angebot   \n",
       "5588         Dacia_Duster_1.6_16V_4x2_Prestige__1._Hand  privat   Angebot   \n",
       "10895             Dacia_Duster_dCi_110_FAP_4x2_Laureate  privat   Angebot   \n",
       "\n",
       "       price abtest vehicleType  yearOfRegistration  gearbox  powerPS   model  \\\n",
       "1076    5800   test         suv                2010  manuell       86  duster   \n",
       "5588    7650   test         suv                2010  manuell      105  duster   \n",
       "10895  11350   test         suv                2010  manuell      107  duster   \n",
       "\n",
       "       kilometer  monthOfRegistration fuelType  brand notRepairedDamage  \\\n",
       "1076      150000                    7   diesel  dacia              nein   \n",
       "5588       90000                   11   benzin  dacia              nein   \n",
       "10895      30000                    8   diesel  dacia              nein   \n",
       "\n",
       "               dateCreated  nrOfPictures  postalCode             lastSeen  \\\n",
       "1076   2016-03-13 00:00:00             0       47166  2016-04-06 16:17:07   \n",
       "5588   2016-03-11 00:00:00             0       61184  2016-04-06 13:17:14   \n",
       "10895  2016-03-24 00:00:00             0       73630  2016-04-07 07:45:18   \n",
       "\n",
       "       cluster  \n",
       "1076         0  \n",
       "5588         2  \n",
       "10895        3  "
      ]
     },
     "execution_count": 405,
     "metadata": {},
     "output_type": "execute_result"
    }
   ],
   "source": [
    "duster_suvs_2010['cluster'] = y_predicted\n",
    "duster_suvs_2010.head(3)"
   ]
  },
  {
   "cell_type": "code",
   "execution_count": 406,
   "id": "96f7778a",
   "metadata": {},
   "outputs": [
    {
     "data": {
      "image/png": "[encoded data removed]",
      "text/plain": [
       "<Figure size 640x480 with 1 Axes>"
      ]
     },
     "metadata": {},
     "output_type": "display_data"
    }
   ],
   "source": [
    "df1 = duster_suvs_2010[duster_suvs_2010.cluster == 0]\n",
    "df2 = duster_suvs_2010[duster_suvs_2010.cluster == 1]\n",
    "df3 = duster_suvs_2010[duster_suvs_2010.cluster == 2]\n",
    "df4 = duster_suvs_2010[duster_suvs_2010.cluster == 3]\n",
    "\n",
    "plt.scatter(df1['kilometer'], df1['price'], color='green', label='Cluster 0')\n",
    "plt.scatter(df2['kilometer'], df2['price'], color='red', label='Cluster 1')\n",
    "plt.scatter(df3['kilometer'], df3['price'], color='black', label='Cluster 2')\n",
    "plt.scatter(df4['kilometer'], df4['price'], color='orange', label='Cluster 3')\n",
    "\n",
    "plt.xlabel('Kilometer')\n",
    "plt.ylabel('Price')\n",
    "plt.legend()\n",
    "\n",
    "plt.show()"
   ]
  },
  {
   "cell_type": "markdown",
   "id": "902d200f",
   "metadata": {},
   "source": [
    "#### Make the price scales 0 to 1"
   ]
  },
  {
   "cell_type": "code",
   "execution_count": 407,
   "id": "745650f9",
   "metadata": {},
   "outputs": [
    {
     "name": "stderr",
     "output_type": "stream",
     "text": [
      "/var/folders/l9/yvbj6fz177b93d32gv9w_f9r0000gn/T/ipykernel_2042/2482781657.py:8: SettingWithCopyWarning: \n",
      "A value is trying to be set on a copy of a slice from a DataFrame.\n",
      "Try using .loc[row_indexer,col_indexer] = value instead\n",
      "\n",
      "See the caveats in the documentation: https://pandas.pydata.org/pandas-docs/stable/user_guide/indexing.html#returning-a-view-versus-a-copy\n",
      "  duster_suvs_2010['price'] = scaler.transform(prices)\n",
      "/var/folders/l9/yvbj6fz177b93d32gv9w_f9r0000gn/T/ipykernel_2042/2482781657.py:12: SettingWithCopyWarning: \n",
      "A value is trying to be set on a copy of a slice from a DataFrame.\n",
      "Try using .loc[row_indexer,col_indexer] = value instead\n",
      "\n",
      "See the caveats in the documentation: https://pandas.pydata.org/pandas-docs/stable/user_guide/indexing.html#returning-a-view-versus-a-copy\n",
      "  duster_suvs_2010['kilometer'] = scaler.transform(kilometer)\n"
     ]
    }
   ],
   "source": [
    "# Reshape the input data\n",
    "prices = duster_suvs_2010['price'].values.reshape(-1, 1)\n",
    "kilometer = duster_suvs_2010['kilometer'].values.reshape(-1, 1)\n",
    "\n",
    "\n",
    "scaler = MinMaxScaler()\n",
    "scaler.fit(prices)\n",
    "duster_suvs_2010['price'] = scaler.transform(prices)\n",
    "\n",
    "scaler = MinMaxScaler()\n",
    "scaler.fit(kilometer)\n",
    "duster_suvs_2010['kilometer'] = scaler.transform(kilometer)"
   ]
  },
  {
   "cell_type": "code",
   "execution_count": 389,
   "id": "0d81d8ff",
   "metadata": {},
   "outputs": [
    {
     "data": {
      "text/plain": [
       "array([[0.5       , 0.38998701],\n",
       "       [0.85119048, 0.26530612],\n",
       "       [0.22727273, 0.5974026 ],\n",
       "       [0.33333333, 0.82446939]])"
      ]
     },
     "execution_count": 389,
     "metadata": {},
     "output_type": "execute_result"
    }
   ],
   "source": [
    "km.cluster_centers_"
   ]
  },
  {
   "cell_type": "code",
   "execution_count": 396,
   "id": "41e2a30f",
   "metadata": {
    "scrolled": false
   },
   "outputs": [
    {
     "data": {
      "image/png": "[encoded data removed]",
      "text/plain": [
       "<Figure size 640x480 with 1 Axes>"
      ]
     },
     "metadata": {},
     "output_type": "display_data"
    }
   ],
   "source": [
    "df1 = duster_suvs_2010[duster_suvs_2010.cluster == 0]\n",
    "df2 = duster_suvs_2010[duster_suvs_2010.cluster == 1]\n",
    "df3 = duster_suvs_2010[duster_suvs_2010.cluster == 2]\n",
    "df4 = duster_suvs_2010[duster_suvs_2010.cluster == 3]\n",
    "\n",
    "plt.scatter(df1['kilometer'], df1['price'], color='green', label='Cluster 0')\n",
    "plt.scatter(df2['kilometer'], df2['price'], color='red', label='Cluster 1')\n",
    "plt.scatter(df3['kilometer'], df3['price'], color='black', label='Cluster 2')\n",
    "plt.scatter(df4['kilometer'], df4['price'], color='orange', label='Cluster 3')\n",
    "\n",
    "plt.scatter(km.cluster_centers_[:,0], km.cluster_centers_[:,1],color='purple', marker=\"*\", label='Centroids')\n",
    "\n",
    "plt.xlabel('Kilometer')\n",
    "plt.ylabel('Price')\n",
    "plt.legend()\n",
    "\n",
    "plt.show()"
   ]
  },
  {
   "cell_type": "code",
   "execution_count": 397,
   "id": "bc350ae0",
   "metadata": {},
   "outputs": [
    {
     "data": {
      "text/plain": [
       "1076     2010\n",
       "5588     2010\n",
       "10895    2010\n",
       "13085    2010\n",
       "17550    2010\n",
       "Name: yearOfRegistration, dtype: int64"
      ]
     },
     "execution_count": 397,
     "metadata": {},
     "output_type": "execute_result"
    }
   ],
   "source": [
    "duster_suvs_2010['yearOfRegistration'].head(5)"
   ]
  },
  {
   "cell_type": "code",
   "execution_count": 398,
   "id": "deda2c48",
   "metadata": {},
   "outputs": [
    {
     "data": {
      "text/html": [
       "<div>\n",
       "<style scoped>\n",
       "    .dataframe tbody tr th:only-of-type {\n",
       "        vertical-align: middle;\n",
       "    }\n",
       "\n",
       "    .dataframe tbody tr th {\n",
       "        vertical-align: top;\n",
       "    }\n",
       "\n",
       "    .dataframe thead th {\n",
       "        text-align: right;\n",
       "    }\n",
       "</style>\n",
       "<table border=\"1\" class=\"dataframe\">\n",
       "  <thead>\n",
       "    <tr style=\"text-align: right;\">\n",
       "      <th></th>\n",
       "      <th>model</th>\n",
       "      <th>vehicleType</th>\n",
       "      <th>price</th>\n",
       "      <th>kilometer</th>\n",
       "      <th>yearOfRegistration</th>\n",
       "      <th>cluster</th>\n",
       "    </tr>\n",
       "  </thead>\n",
       "  <tbody>\n",
       "    <tr>\n",
       "      <th>1076</th>\n",
       "      <td>duster</td>\n",
       "      <td>suv</td>\n",
       "      <td>0.207143</td>\n",
       "      <td>1.000000</td>\n",
       "      <td>2010</td>\n",
       "      <td>1</td>\n",
       "    </tr>\n",
       "    <tr>\n",
       "      <th>5588</th>\n",
       "      <td>duster</td>\n",
       "      <td>suv</td>\n",
       "      <td>0.471429</td>\n",
       "      <td>0.500000</td>\n",
       "      <td>2010</td>\n",
       "      <td>0</td>\n",
       "    </tr>\n",
       "    <tr>\n",
       "      <th>10895</th>\n",
       "      <td>duster</td>\n",
       "      <td>suv</td>\n",
       "      <td>1.000000</td>\n",
       "      <td>0.000000</td>\n",
       "      <td>2010</td>\n",
       "      <td>3</td>\n",
       "    </tr>\n",
       "    <tr>\n",
       "      <th>13085</th>\n",
       "      <td>duster</td>\n",
       "      <td>suv</td>\n",
       "      <td>0.657857</td>\n",
       "      <td>0.333333</td>\n",
       "      <td>2010</td>\n",
       "      <td>2</td>\n",
       "    </tr>\n",
       "    <tr>\n",
       "      <th>17550</th>\n",
       "      <td>duster</td>\n",
       "      <td>suv</td>\n",
       "      <td>0.800000</td>\n",
       "      <td>0.333333</td>\n",
       "      <td>2010</td>\n",
       "      <td>3</td>\n",
       "    </tr>\n",
       "  </tbody>\n",
       "</table>\n",
       "</div>"
      ],
      "text/plain": [
       "        model vehicleType     price  kilometer  yearOfRegistration  cluster\n",
       "1076   duster         suv  0.207143   1.000000                2010        1\n",
       "5588   duster         suv  0.471429   0.500000                2010        0\n",
       "10895  duster         suv  1.000000   0.000000                2010        3\n",
       "13085  duster         suv  0.657857   0.333333                2010        2\n",
       "17550  duster         suv  0.800000   0.333333                2010        3"
      ]
     },
     "metadata": {},
     "output_type": "display_data"
    }
   ],
   "source": [
    "display(duster_suvs_2010[['model', 'vehicleType', 'price', 'kilometer', 'yearOfRegistration', 'cluster']].head())"
   ]
  },
  {
   "cell_type": "code",
   "execution_count": null,
   "id": "fb05caee",
   "metadata": {},
   "outputs": [],
   "source": []
  },
  {
   "cell_type": "code",
   "execution_count": null,
   "id": "2a2df3b2",
   "metadata": {},
   "outputs": [],
   "source": []
  },
  {
   "cell_type": "code",
   "execution_count": null,
   "id": "e06fed2a",
   "metadata": {},
   "outputs": [],
   "source": []
  },
  {
   "cell_type": "code",
   "execution_count": null,
   "id": "3b518dbf",
   "metadata": {},
   "outputs": [],
   "source": []
  },
  {
   "cell_type": "code",
   "execution_count": null,
   "id": "27718de6",
   "metadata": {},
   "outputs": [],
   "source": []
  },
  {
   "cell_type": "code",
   "execution_count": null,
   "id": "987e72ee",
   "metadata": {},
   "outputs": [],
   "source": []
  },
  {
   "cell_type": "code",
   "execution_count": null,
   "id": "7111c2bf",
   "metadata": {},
   "outputs": [],
   "source": []
  },
  {
   "cell_type": "code",
   "execution_count": null,
   "id": "863938fd",
   "metadata": {},
   "outputs": [],
   "source": []
  },
  {
   "cell_type": "code",
   "execution_count": null,
   "id": "70c07142",
   "metadata": {},
   "outputs": [],
   "source": []
  },
  {
   "cell_type": "code",
   "execution_count": 45,
   "id": "6444bf72",
   "metadata": {
    "scrolled": true
   },
   "outputs": [
    {
     "data": {
      "text/html": [
       "<div>\n",
       "<style scoped>\n",
       "    .dataframe tbody tr th:only-of-type {\n",
       "        vertical-align: middle;\n",
       "    }\n",
       "\n",
       "    .dataframe tbody tr th {\n",
       "        vertical-align: top;\n",
       "    }\n",
       "\n",
       "    .dataframe thead th {\n",
       "        text-align: right;\n",
       "    }\n",
       "</style>\n",
       "<table border=\"1\" class=\"dataframe\">\n",
       "  <thead>\n",
       "    <tr style=\"text-align: right;\">\n",
       "      <th></th>\n",
       "      <th>index</th>\n",
       "      <th>dateCrawled</th>\n",
       "      <th>name</th>\n",
       "      <th>seller</th>\n",
       "      <th>offerType</th>\n",
       "      <th>price</th>\n",
       "      <th>abtest</th>\n",
       "      <th>vehicleType</th>\n",
       "      <th>yearOfRegistration</th>\n",
       "      <th>gearbox</th>\n",
       "      <th>powerPS</th>\n",
       "      <th>model</th>\n",
       "      <th>kilometer</th>\n",
       "      <th>monthOfRegistration</th>\n",
       "      <th>fuelType</th>\n",
       "      <th>brand</th>\n",
       "      <th>notRepairedDamage</th>\n",
       "      <th>dateCreated</th>\n",
       "      <th>nrOfPictures</th>\n",
       "      <th>postalCode</th>\n",
       "      <th>lastSeen</th>\n",
       "    </tr>\n",
       "  </thead>\n",
       "  <tbody>\n",
       "    <tr>\n",
       "      <th>0</th>\n",
       "      <td>0</td>\n",
       "      <td>2016-03-24 11:52:17</td>\n",
       "      <td>Golf_3_1.6</td>\n",
       "      <td>privat</td>\n",
       "      <td>Angebot</td>\n",
       "      <td>480</td>\n",
       "      <td>test</td>\n",
       "      <td>NaN</td>\n",
       "      <td>1993</td>\n",
       "      <td>manuell</td>\n",
       "      <td>0</td>\n",
       "      <td>golf</td>\n",
       "      <td>150000</td>\n",
       "      <td>0</td>\n",
       "      <td>benzin</td>\n",
       "      <td>volkswagen</td>\n",
       "      <td>NaN</td>\n",
       "      <td>2016-03-24 00:00:00</td>\n",
       "      <td>0</td>\n",
       "      <td>70435</td>\n",
       "      <td>2016-04-07 03:16:57</td>\n",
       "    </tr>\n",
       "    <tr>\n",
       "      <th>1</th>\n",
       "      <td>1</td>\n",
       "      <td>2016-03-24 10:58:45</td>\n",
       "      <td>A5_Sportback_2.7_Tdi</td>\n",
       "      <td>privat</td>\n",
       "      <td>Angebot</td>\n",
       "      <td>18300</td>\n",
       "      <td>test</td>\n",
       "      <td>coupe</td>\n",
       "      <td>2011</td>\n",
       "      <td>manuell</td>\n",
       "      <td>190</td>\n",
       "      <td>NaN</td>\n",
       "      <td>125000</td>\n",
       "      <td>5</td>\n",
       "      <td>diesel</td>\n",
       "      <td>audi</td>\n",
       "      <td>ja</td>\n",
       "      <td>2016-03-24 00:00:00</td>\n",
       "      <td>0</td>\n",
       "      <td>66954</td>\n",
       "      <td>2016-04-07 01:46:50</td>\n",
       "    </tr>\n",
       "    <tr>\n",
       "      <th>2</th>\n",
       "      <td>2</td>\n",
       "      <td>2016-03-14 12:52:21</td>\n",
       "      <td>Jeep_Grand_Cherokee_\"Overland\"</td>\n",
       "      <td>privat</td>\n",
       "      <td>Angebot</td>\n",
       "      <td>9800</td>\n",
       "      <td>test</td>\n",
       "      <td>suv</td>\n",
       "      <td>2004</td>\n",
       "      <td>automatik</td>\n",
       "      <td>163</td>\n",
       "      <td>grand</td>\n",
       "      <td>125000</td>\n",
       "      <td>8</td>\n",
       "      <td>diesel</td>\n",
       "      <td>jeep</td>\n",
       "      <td>NaN</td>\n",
       "      <td>2016-03-14 00:00:00</td>\n",
       "      <td>0</td>\n",
       "      <td>90480</td>\n",
       "      <td>2016-04-05 12:47:46</td>\n",
       "    </tr>\n",
       "  </tbody>\n",
       "</table>\n",
       "</div>"
      ],
      "text/plain": [
       "   index          dateCrawled                            name  seller  \\\n",
       "0      0  2016-03-24 11:52:17                      Golf_3_1.6  privat   \n",
       "1      1  2016-03-24 10:58:45            A5_Sportback_2.7_Tdi  privat   \n",
       "2      2  2016-03-14 12:52:21  Jeep_Grand_Cherokee_\"Overland\"  privat   \n",
       "\n",
       "  offerType  price abtest vehicleType  yearOfRegistration    gearbox  powerPS  \\\n",
       "0   Angebot    480   test         NaN                1993    manuell        0   \n",
       "1   Angebot  18300   test       coupe                2011    manuell      190   \n",
       "2   Angebot   9800   test         suv                2004  automatik      163   \n",
       "\n",
       "   model  kilometer  monthOfRegistration fuelType       brand  \\\n",
       "0   golf     150000                    0   benzin  volkswagen   \n",
       "1    NaN     125000                    5   diesel        audi   \n",
       "2  grand     125000                    8   diesel        jeep   \n",
       "\n",
       "  notRepairedDamage          dateCreated  nrOfPictures  postalCode  \\\n",
       "0               NaN  2016-03-24 00:00:00             0       70435   \n",
       "1                ja  2016-03-24 00:00:00             0       66954   \n",
       "2               NaN  2016-03-14 00:00:00             0       90480   \n",
       "\n",
       "              lastSeen  \n",
       "0  2016-04-07 03:16:57  \n",
       "1  2016-04-07 01:46:50  \n",
       "2  2016-04-05 12:47:46  "
      ]
     },
     "metadata": {},
     "output_type": "display_data"
    }
   ],
   "source": [
    "display(used_cars.head(3))\n"
   ]
  },
  {
   "cell_type": "code",
   "execution_count": null,
   "id": "4b6d422c",
   "metadata": {},
   "outputs": [],
   "source": []
  },
  {
   "cell_type": "code",
   "execution_count": 46,
   "id": "347540e0",
   "metadata": {},
   "outputs": [
    {
     "ename": "ValueError",
     "evalue": "The feature names should match those that were passed during fit.\nFeature names seen at fit time, yet now missing:\n- index\n- monthOfRegistration\n- nrOfPictures\n- postalCode\n",
     "output_type": "error",
     "traceback": [
      "\u001b[0;31m---------------------------------------------------------------------------\u001b[0m",
      "\u001b[0;31mValueError\u001b[0m                                Traceback (most recent call last)",
      "Cell \u001b[0;32mIn[46], line 43\u001b[0m\n\u001b[1;32m     40\u001b[0m new_data_df \u001b[38;5;241m=\u001b[39m new_data_df[columns_to_keep]\n\u001b[1;32m     42\u001b[0m \u001b[38;5;66;03m# Standardize the new data using the same scaler used for training\u001b[39;00m\n\u001b[0;32m---> 43\u001b[0m new_data_scaled \u001b[38;5;241m=\u001b[39m scaler\u001b[38;5;241m.\u001b[39mtransform(new_data_df)\n\u001b[1;32m     45\u001b[0m \u001b[38;5;66;03m# Predict\u001b[39;00m\n\u001b[1;32m     46\u001b[0m predicted_price \u001b[38;5;241m=\u001b[39m ridge_model\u001b[38;5;241m.\u001b[39mpredict(new_data_scaled)\n",
      "File \u001b[0;32m~/anaconda3/lib/python3.11/site-packages/sklearn/utils/_set_output.py:140\u001b[0m, in \u001b[0;36m_wrap_method_output.<locals>.wrapped\u001b[0;34m(self, X, *args, **kwargs)\u001b[0m\n\u001b[1;32m    138\u001b[0m \u001b[38;5;129m@wraps\u001b[39m(f)\n\u001b[1;32m    139\u001b[0m \u001b[38;5;28;01mdef\u001b[39;00m \u001b[38;5;21mwrapped\u001b[39m(\u001b[38;5;28mself\u001b[39m, X, \u001b[38;5;241m*\u001b[39margs, \u001b[38;5;241m*\u001b[39m\u001b[38;5;241m*\u001b[39mkwargs):\n\u001b[0;32m--> 140\u001b[0m     data_to_wrap \u001b[38;5;241m=\u001b[39m f(\u001b[38;5;28mself\u001b[39m, X, \u001b[38;5;241m*\u001b[39margs, \u001b[38;5;241m*\u001b[39m\u001b[38;5;241m*\u001b[39mkwargs)\n\u001b[1;32m    141\u001b[0m     \u001b[38;5;28;01mif\u001b[39;00m \u001b[38;5;28misinstance\u001b[39m(data_to_wrap, \u001b[38;5;28mtuple\u001b[39m):\n\u001b[1;32m    142\u001b[0m         \u001b[38;5;66;03m# only wrap the first output for cross decomposition\u001b[39;00m\n\u001b[1;32m    143\u001b[0m         return_tuple \u001b[38;5;241m=\u001b[39m (\n\u001b[1;32m    144\u001b[0m             _wrap_data_with_container(method, data_to_wrap[\u001b[38;5;241m0\u001b[39m], X, \u001b[38;5;28mself\u001b[39m),\n\u001b[1;32m    145\u001b[0m             \u001b[38;5;241m*\u001b[39mdata_to_wrap[\u001b[38;5;241m1\u001b[39m:],\n\u001b[1;32m    146\u001b[0m         )\n",
      "File \u001b[0;32m~/anaconda3/lib/python3.11/site-packages/sklearn/preprocessing/_data.py:1004\u001b[0m, in \u001b[0;36mStandardScaler.transform\u001b[0;34m(self, X, copy)\u001b[0m\n\u001b[1;32m   1001\u001b[0m check_is_fitted(\u001b[38;5;28mself\u001b[39m)\n\u001b[1;32m   1003\u001b[0m copy \u001b[38;5;241m=\u001b[39m copy \u001b[38;5;28;01mif\u001b[39;00m copy \u001b[38;5;129;01mis\u001b[39;00m \u001b[38;5;129;01mnot\u001b[39;00m \u001b[38;5;28;01mNone\u001b[39;00m \u001b[38;5;28;01melse\u001b[39;00m \u001b[38;5;28mself\u001b[39m\u001b[38;5;241m.\u001b[39mcopy\n\u001b[0;32m-> 1004\u001b[0m X \u001b[38;5;241m=\u001b[39m \u001b[38;5;28mself\u001b[39m\u001b[38;5;241m.\u001b[39m_validate_data(\n\u001b[1;32m   1005\u001b[0m     X,\n\u001b[1;32m   1006\u001b[0m     reset\u001b[38;5;241m=\u001b[39m\u001b[38;5;28;01mFalse\u001b[39;00m,\n\u001b[1;32m   1007\u001b[0m     accept_sparse\u001b[38;5;241m=\u001b[39m\u001b[38;5;124m\"\u001b[39m\u001b[38;5;124mcsr\u001b[39m\u001b[38;5;124m\"\u001b[39m,\n\u001b[1;32m   1008\u001b[0m     copy\u001b[38;5;241m=\u001b[39mcopy,\n\u001b[1;32m   1009\u001b[0m     dtype\u001b[38;5;241m=\u001b[39mFLOAT_DTYPES,\n\u001b[1;32m   1010\u001b[0m     force_all_finite\u001b[38;5;241m=\u001b[39m\u001b[38;5;124m\"\u001b[39m\u001b[38;5;124mallow-nan\u001b[39m\u001b[38;5;124m\"\u001b[39m,\n\u001b[1;32m   1011\u001b[0m )\n\u001b[1;32m   1013\u001b[0m \u001b[38;5;28;01mif\u001b[39;00m sparse\u001b[38;5;241m.\u001b[39missparse(X):\n\u001b[1;32m   1014\u001b[0m     \u001b[38;5;28;01mif\u001b[39;00m \u001b[38;5;28mself\u001b[39m\u001b[38;5;241m.\u001b[39mwith_mean:\n",
      "File \u001b[0;32m~/anaconda3/lib/python3.11/site-packages/sklearn/base.py:579\u001b[0m, in \u001b[0;36mBaseEstimator._validate_data\u001b[0;34m(self, X, y, reset, validate_separately, cast_to_ndarray, **check_params)\u001b[0m\n\u001b[1;32m    508\u001b[0m \u001b[38;5;28;01mdef\u001b[39;00m \u001b[38;5;21m_validate_data\u001b[39m(\n\u001b[1;32m    509\u001b[0m     \u001b[38;5;28mself\u001b[39m,\n\u001b[1;32m    510\u001b[0m     X\u001b[38;5;241m=\u001b[39m\u001b[38;5;124m\"\u001b[39m\u001b[38;5;124mno_validation\u001b[39m\u001b[38;5;124m\"\u001b[39m,\n\u001b[0;32m   (...)\u001b[0m\n\u001b[1;32m    515\u001b[0m     \u001b[38;5;241m*\u001b[39m\u001b[38;5;241m*\u001b[39mcheck_params,\n\u001b[1;32m    516\u001b[0m ):\n\u001b[1;32m    517\u001b[0m \u001b[38;5;250m    \u001b[39m\u001b[38;5;124;03m\"\"\"Validate input data and set or check the `n_features_in_` attribute.\u001b[39;00m\n\u001b[1;32m    518\u001b[0m \n\u001b[1;32m    519\u001b[0m \u001b[38;5;124;03m    Parameters\u001b[39;00m\n\u001b[0;32m   (...)\u001b[0m\n\u001b[1;32m    577\u001b[0m \u001b[38;5;124;03m        validated.\u001b[39;00m\n\u001b[1;32m    578\u001b[0m \u001b[38;5;124;03m    \"\"\"\u001b[39;00m\n\u001b[0;32m--> 579\u001b[0m     \u001b[38;5;28mself\u001b[39m\u001b[38;5;241m.\u001b[39m_check_feature_names(X, reset\u001b[38;5;241m=\u001b[39mreset)\n\u001b[1;32m    581\u001b[0m     \u001b[38;5;28;01mif\u001b[39;00m y \u001b[38;5;129;01mis\u001b[39;00m \u001b[38;5;28;01mNone\u001b[39;00m \u001b[38;5;129;01mand\u001b[39;00m \u001b[38;5;28mself\u001b[39m\u001b[38;5;241m.\u001b[39m_get_tags()[\u001b[38;5;124m\"\u001b[39m\u001b[38;5;124mrequires_y\u001b[39m\u001b[38;5;124m\"\u001b[39m]:\n\u001b[1;32m    582\u001b[0m         \u001b[38;5;28;01mraise\u001b[39;00m \u001b[38;5;167;01mValueError\u001b[39;00m(\n\u001b[1;32m    583\u001b[0m             \u001b[38;5;124mf\u001b[39m\u001b[38;5;124m\"\u001b[39m\u001b[38;5;124mThis \u001b[39m\u001b[38;5;132;01m{\u001b[39;00m\u001b[38;5;28mself\u001b[39m\u001b[38;5;241m.\u001b[39m\u001b[38;5;18m__class__\u001b[39m\u001b[38;5;241m.\u001b[39m\u001b[38;5;18m__name__\u001b[39m\u001b[38;5;132;01m}\u001b[39;00m\u001b[38;5;124m estimator \u001b[39m\u001b[38;5;124m\"\u001b[39m\n\u001b[1;32m    584\u001b[0m             \u001b[38;5;124m\"\u001b[39m\u001b[38;5;124mrequires y to be passed, but the target y is None.\u001b[39m\u001b[38;5;124m\"\u001b[39m\n\u001b[1;32m    585\u001b[0m         )\n",
      "File \u001b[0;32m~/anaconda3/lib/python3.11/site-packages/sklearn/base.py:506\u001b[0m, in \u001b[0;36mBaseEstimator._check_feature_names\u001b[0;34m(self, X, reset)\u001b[0m\n\u001b[1;32m    501\u001b[0m \u001b[38;5;28;01mif\u001b[39;00m \u001b[38;5;129;01mnot\u001b[39;00m missing_names \u001b[38;5;129;01mand\u001b[39;00m \u001b[38;5;129;01mnot\u001b[39;00m unexpected_names:\n\u001b[1;32m    502\u001b[0m     message \u001b[38;5;241m+\u001b[39m\u001b[38;5;241m=\u001b[39m (\n\u001b[1;32m    503\u001b[0m         \u001b[38;5;124m\"\u001b[39m\u001b[38;5;124mFeature names must be in the same order as they were in fit.\u001b[39m\u001b[38;5;130;01m\\n\u001b[39;00m\u001b[38;5;124m\"\u001b[39m\n\u001b[1;32m    504\u001b[0m     )\n\u001b[0;32m--> 506\u001b[0m \u001b[38;5;28;01mraise\u001b[39;00m \u001b[38;5;167;01mValueError\u001b[39;00m(message)\n",
      "\u001b[0;31mValueError\u001b[0m: The feature names should match those that were passed during fit.\nFeature names seen at fit time, yet now missing:\n- index\n- monthOfRegistration\n- nrOfPictures\n- postalCode\n"
     ]
    }
   ],
   "source": [
    "import pandas as pd\n",
    "from sklearn.linear_model import Ridge\n",
    "from sklearn.model_selection import train_test_split\n",
    "from sklearn.preprocessing import StandardScaler\n",
    "\n",
    "# Load your dataset\n",
    "your_data = pd.read_csv('autos.csv')  # Replace 'your_dataset.csv' with the path to your dataset file\n",
    "\n",
    "# Drop non-numeric columns\n",
    "your_data_numeric = your_data.select_dtypes(include=['int', 'float'])\n",
    "\n",
    "# Drop rows with null values\n",
    "your_data_numeric.dropna(inplace=True)\n",
    "\n",
    "# Feature Selection\n",
    "X_train = your_data_numeric.drop('price', axis=1)\n",
    "y_train = your_data_numeric['price']\n",
    "\n",
    "# Standardize the features\n",
    "scaler = StandardScaler()\n",
    "X_train_scaled = scaler.fit_transform(X_train)\n",
    "\n",
    "# Train a Ridge regression model\n",
    "alpha = 1.0  # Regularization strength (hyperparameter)\n",
    "ridge_model = Ridge(alpha=alpha)\n",
    "ridge_model.fit(X_train_scaled, y_train)\n",
    "\n",
    "# Now, prepare the new data for prediction\n",
    "new_data = {\n",
    "    'yearOfRegistration': [2005],  # Example new data\n",
    "    'powerPS': [85],  # Example new data\n",
    "    'kilometer': [120000]  # Example new data\n",
    "}\n",
    "\n",
    "# Create a DataFrame for the new data\n",
    "new_data_df = pd.DataFrame(new_data)\n",
    "\n",
    "# Ensure that the new data has the same columns as the training data\n",
    "columns_to_keep = X_train.columns.intersection(new_data_df.columns)\n",
    "new_data_df = new_data_df[columns_to_keep]\n",
    "\n",
    "# Standardize the new data using the same scaler used for training\n",
    "new_data_scaled = scaler.transform(new_data_df)\n",
    "\n",
    "# Predict\n",
    "predicted_price = ridge_model.predict(new_data_scaled)\n",
    "\n",
    "print(\"Predicted Price:\", predicted_price)\n"
   ]
  },
  {
   "cell_type": "code",
   "execution_count": null,
   "id": "6d4cee81",
   "metadata": {},
   "outputs": [],
   "source": []
  },
  {
   "cell_type": "code",
   "execution_count": null,
   "id": "bfeef8c2",
   "metadata": {},
   "outputs": [],
   "source": []
  }
 ],
 "metadata": {
  "kernelspec": {
   "display_name": "Python 3 (ipykernel)",
   "language": "python",
   "name": "python3"
  },
  "language_info": {
   "codemirror_mode": {
    "name": "ipython",
    "version": 3
   },
   "file_extension": ".py",
   "mimetype": "text/x-python",
   "name": "python",
   "nbconvert_exporter": "python",
   "pygments_lexer": "ipython3",
   "version": "3.11.5"
  }
 },
 "nbformat": 4,
 "nbformat_minor": 5
}
